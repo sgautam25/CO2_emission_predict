{
 "cells": [
  {
   "cell_type": "code",
   "execution_count": 9,
   "metadata": {},
   "outputs": [],
   "source": [
    "import numpy as np\n",
    "import pandas as pd\n",
    "import matplotlib.pylab\n",
    "import matplotlib.pyplot as plt\n",
    "from matplotlib.pylab import rcParams\n",
    "rcParams['figure.figsize'] = 20, 20\n",
    "import warnings\n",
    "import itertools\n",
    "warnings.filterwarnings(\"ignore\")"
   ]
  },
  {
   "cell_type": "code",
   "execution_count": 11,
   "metadata": {},
   "outputs": [
    {
     "data": {
      "text/html": [
       "<div>\n",
       "<style scoped>\n",
       "    .dataframe tbody tr th:only-of-type {\n",
       "        vertical-align: middle;\n",
       "    }\n",
       "\n",
       "    .dataframe tbody tr th {\n",
       "        vertical-align: top;\n",
       "    }\n",
       "\n",
       "    .dataframe thead th {\n",
       "        text-align: right;\n",
       "    }\n",
       "</style>\n",
       "<table border=\"1\" class=\"dataframe\">\n",
       "  <thead>\n",
       "    <tr style=\"text-align: right;\">\n",
       "      <th></th>\n",
       "      <th>MSN</th>\n",
       "      <th>YYYYMM</th>\n",
       "      <th>Value</th>\n",
       "      <th>Column_Order</th>\n",
       "      <th>Description</th>\n",
       "      <th>Unit</th>\n",
       "    </tr>\n",
       "  </thead>\n",
       "  <tbody>\n",
       "    <tr>\n",
       "      <th>0</th>\n",
       "      <td>CLEIEUS</td>\n",
       "      <td>197301</td>\n",
       "      <td>72.076</td>\n",
       "      <td>1</td>\n",
       "      <td>Coal Electric Power Sector CO2 Emissions</td>\n",
       "      <td>Million Metric Tons of Carbon Dioxide</td>\n",
       "    </tr>\n",
       "    <tr>\n",
       "      <th>1</th>\n",
       "      <td>CLEIEUS</td>\n",
       "      <td>197302</td>\n",
       "      <td>64.442</td>\n",
       "      <td>1</td>\n",
       "      <td>Coal Electric Power Sector CO2 Emissions</td>\n",
       "      <td>Million Metric Tons of Carbon Dioxide</td>\n",
       "    </tr>\n",
       "    <tr>\n",
       "      <th>2</th>\n",
       "      <td>CLEIEUS</td>\n",
       "      <td>197303</td>\n",
       "      <td>64.084</td>\n",
       "      <td>1</td>\n",
       "      <td>Coal Electric Power Sector CO2 Emissions</td>\n",
       "      <td>Million Metric Tons of Carbon Dioxide</td>\n",
       "    </tr>\n",
       "    <tr>\n",
       "      <th>3</th>\n",
       "      <td>CLEIEUS</td>\n",
       "      <td>197304</td>\n",
       "      <td>60.842</td>\n",
       "      <td>1</td>\n",
       "      <td>Coal Electric Power Sector CO2 Emissions</td>\n",
       "      <td>Million Metric Tons of Carbon Dioxide</td>\n",
       "    </tr>\n",
       "    <tr>\n",
       "      <th>4</th>\n",
       "      <td>CLEIEUS</td>\n",
       "      <td>197305</td>\n",
       "      <td>61.798</td>\n",
       "      <td>1</td>\n",
       "      <td>Coal Electric Power Sector CO2 Emissions</td>\n",
       "      <td>Million Metric Tons of Carbon Dioxide</td>\n",
       "    </tr>\n",
       "    <tr>\n",
       "      <th>5</th>\n",
       "      <td>CLEIEUS</td>\n",
       "      <td>197306</td>\n",
       "      <td>66.538</td>\n",
       "      <td>1</td>\n",
       "      <td>Coal Electric Power Sector CO2 Emissions</td>\n",
       "      <td>Million Metric Tons of Carbon Dioxide</td>\n",
       "    </tr>\n",
       "    <tr>\n",
       "      <th>6</th>\n",
       "      <td>CLEIEUS</td>\n",
       "      <td>197307</td>\n",
       "      <td>72.626</td>\n",
       "      <td>1</td>\n",
       "      <td>Coal Electric Power Sector CO2 Emissions</td>\n",
       "      <td>Million Metric Tons of Carbon Dioxide</td>\n",
       "    </tr>\n",
       "    <tr>\n",
       "      <th>7</th>\n",
       "      <td>CLEIEUS</td>\n",
       "      <td>197308</td>\n",
       "      <td>75.181</td>\n",
       "      <td>1</td>\n",
       "      <td>Coal Electric Power Sector CO2 Emissions</td>\n",
       "      <td>Million Metric Tons of Carbon Dioxide</td>\n",
       "    </tr>\n",
       "    <tr>\n",
       "      <th>8</th>\n",
       "      <td>CLEIEUS</td>\n",
       "      <td>197309</td>\n",
       "      <td>68.397</td>\n",
       "      <td>1</td>\n",
       "      <td>Coal Electric Power Sector CO2 Emissions</td>\n",
       "      <td>Million Metric Tons of Carbon Dioxide</td>\n",
       "    </tr>\n",
       "    <tr>\n",
       "      <th>9</th>\n",
       "      <td>CLEIEUS</td>\n",
       "      <td>197310</td>\n",
       "      <td>67.668</td>\n",
       "      <td>1</td>\n",
       "      <td>Coal Electric Power Sector CO2 Emissions</td>\n",
       "      <td>Million Metric Tons of Carbon Dioxide</td>\n",
       "    </tr>\n",
       "    <tr>\n",
       "      <th>10</th>\n",
       "      <td>CLEIEUS</td>\n",
       "      <td>197311</td>\n",
       "      <td>67.021</td>\n",
       "      <td>1</td>\n",
       "      <td>Coal Electric Power Sector CO2 Emissions</td>\n",
       "      <td>Million Metric Tons of Carbon Dioxide</td>\n",
       "    </tr>\n",
       "    <tr>\n",
       "      <th>11</th>\n",
       "      <td>CLEIEUS</td>\n",
       "      <td>197312</td>\n",
       "      <td>71.118</td>\n",
       "      <td>1</td>\n",
       "      <td>Coal Electric Power Sector CO2 Emissions</td>\n",
       "      <td>Million Metric Tons of Carbon Dioxide</td>\n",
       "    </tr>\n",
       "    <tr>\n",
       "      <th>12</th>\n",
       "      <td>CLEIEUS</td>\n",
       "      <td>197313</td>\n",
       "      <td>811.791</td>\n",
       "      <td>1</td>\n",
       "      <td>Coal Electric Power Sector CO2 Emissions</td>\n",
       "      <td>Million Metric Tons of Carbon Dioxide</td>\n",
       "    </tr>\n",
       "    <tr>\n",
       "      <th>13</th>\n",
       "      <td>CLEIEUS</td>\n",
       "      <td>197401</td>\n",
       "      <td>70.55</td>\n",
       "      <td>1</td>\n",
       "      <td>Coal Electric Power Sector CO2 Emissions</td>\n",
       "      <td>Million Metric Tons of Carbon Dioxide</td>\n",
       "    </tr>\n",
       "    <tr>\n",
       "      <th>14</th>\n",
       "      <td>CLEIEUS</td>\n",
       "      <td>197402</td>\n",
       "      <td>62.929</td>\n",
       "      <td>1</td>\n",
       "      <td>Coal Electric Power Sector CO2 Emissions</td>\n",
       "      <td>Million Metric Tons of Carbon Dioxide</td>\n",
       "    </tr>\n",
       "    <tr>\n",
       "      <th>15</th>\n",
       "      <td>CLEIEUS</td>\n",
       "      <td>197403</td>\n",
       "      <td>64.519</td>\n",
       "      <td>1</td>\n",
       "      <td>Coal Electric Power Sector CO2 Emissions</td>\n",
       "      <td>Million Metric Tons of Carbon Dioxide</td>\n",
       "    </tr>\n",
       "    <tr>\n",
       "      <th>16</th>\n",
       "      <td>CLEIEUS</td>\n",
       "      <td>197404</td>\n",
       "      <td>60.544</td>\n",
       "      <td>1</td>\n",
       "      <td>Coal Electric Power Sector CO2 Emissions</td>\n",
       "      <td>Million Metric Tons of Carbon Dioxide</td>\n",
       "    </tr>\n",
       "    <tr>\n",
       "      <th>17</th>\n",
       "      <td>CLEIEUS</td>\n",
       "      <td>197405</td>\n",
       "      <td>64.687</td>\n",
       "      <td>1</td>\n",
       "      <td>Coal Electric Power Sector CO2 Emissions</td>\n",
       "      <td>Million Metric Tons of Carbon Dioxide</td>\n",
       "    </tr>\n",
       "    <tr>\n",
       "      <th>18</th>\n",
       "      <td>CLEIEUS</td>\n",
       "      <td>197406</td>\n",
       "      <td>64.736</td>\n",
       "      <td>1</td>\n",
       "      <td>Coal Electric Power Sector CO2 Emissions</td>\n",
       "      <td>Million Metric Tons of Carbon Dioxide</td>\n",
       "    </tr>\n",
       "    <tr>\n",
       "      <th>19</th>\n",
       "      <td>CLEIEUS</td>\n",
       "      <td>197407</td>\n",
       "      <td>73.698</td>\n",
       "      <td>1</td>\n",
       "      <td>Coal Electric Power Sector CO2 Emissions</td>\n",
       "      <td>Million Metric Tons of Carbon Dioxide</td>\n",
       "    </tr>\n",
       "  </tbody>\n",
       "</table>\n",
       "</div>"
      ],
      "text/plain": [
       "        MSN  YYYYMM    Value  Column_Order  \\\n",
       "0   CLEIEUS  197301   72.076             1   \n",
       "1   CLEIEUS  197302   64.442             1   \n",
       "2   CLEIEUS  197303   64.084             1   \n",
       "3   CLEIEUS  197304   60.842             1   \n",
       "4   CLEIEUS  197305   61.798             1   \n",
       "5   CLEIEUS  197306   66.538             1   \n",
       "6   CLEIEUS  197307   72.626             1   \n",
       "7   CLEIEUS  197308   75.181             1   \n",
       "8   CLEIEUS  197309   68.397             1   \n",
       "9   CLEIEUS  197310   67.668             1   \n",
       "10  CLEIEUS  197311   67.021             1   \n",
       "11  CLEIEUS  197312   71.118             1   \n",
       "12  CLEIEUS  197313  811.791             1   \n",
       "13  CLEIEUS  197401    70.55             1   \n",
       "14  CLEIEUS  197402   62.929             1   \n",
       "15  CLEIEUS  197403   64.519             1   \n",
       "16  CLEIEUS  197404   60.544             1   \n",
       "17  CLEIEUS  197405   64.687             1   \n",
       "18  CLEIEUS  197406   64.736             1   \n",
       "19  CLEIEUS  197407   73.698             1   \n",
       "\n",
       "                                 Description  \\\n",
       "0   Coal Electric Power Sector CO2 Emissions   \n",
       "1   Coal Electric Power Sector CO2 Emissions   \n",
       "2   Coal Electric Power Sector CO2 Emissions   \n",
       "3   Coal Electric Power Sector CO2 Emissions   \n",
       "4   Coal Electric Power Sector CO2 Emissions   \n",
       "5   Coal Electric Power Sector CO2 Emissions   \n",
       "6   Coal Electric Power Sector CO2 Emissions   \n",
       "7   Coal Electric Power Sector CO2 Emissions   \n",
       "8   Coal Electric Power Sector CO2 Emissions   \n",
       "9   Coal Electric Power Sector CO2 Emissions   \n",
       "10  Coal Electric Power Sector CO2 Emissions   \n",
       "11  Coal Electric Power Sector CO2 Emissions   \n",
       "12  Coal Electric Power Sector CO2 Emissions   \n",
       "13  Coal Electric Power Sector CO2 Emissions   \n",
       "14  Coal Electric Power Sector CO2 Emissions   \n",
       "15  Coal Electric Power Sector CO2 Emissions   \n",
       "16  Coal Electric Power Sector CO2 Emissions   \n",
       "17  Coal Electric Power Sector CO2 Emissions   \n",
       "18  Coal Electric Power Sector CO2 Emissions   \n",
       "19  Coal Electric Power Sector CO2 Emissions   \n",
       "\n",
       "                                     Unit  \n",
       "0   Million Metric Tons of Carbon Dioxide  \n",
       "1   Million Metric Tons of Carbon Dioxide  \n",
       "2   Million Metric Tons of Carbon Dioxide  \n",
       "3   Million Metric Tons of Carbon Dioxide  \n",
       "4   Million Metric Tons of Carbon Dioxide  \n",
       "5   Million Metric Tons of Carbon Dioxide  \n",
       "6   Million Metric Tons of Carbon Dioxide  \n",
       "7   Million Metric Tons of Carbon Dioxide  \n",
       "8   Million Metric Tons of Carbon Dioxide  \n",
       "9   Million Metric Tons of Carbon Dioxide  \n",
       "10  Million Metric Tons of Carbon Dioxide  \n",
       "11  Million Metric Tons of Carbon Dioxide  \n",
       "12  Million Metric Tons of Carbon Dioxide  \n",
       "13  Million Metric Tons of Carbon Dioxide  \n",
       "14  Million Metric Tons of Carbon Dioxide  \n",
       "15  Million Metric Tons of Carbon Dioxide  \n",
       "16  Million Metric Tons of Carbon Dioxide  \n",
       "17  Million Metric Tons of Carbon Dioxide  \n",
       "18  Million Metric Tons of Carbon Dioxide  \n",
       "19  Million Metric Tons of Carbon Dioxide  "
      ]
     },
     "execution_count": 11,
     "metadata": {},
     "output_type": "execute_result"
    }
   ],
   "source": [
    "df = pd.read_csv(\"MER_T12_06.csv\")\n",
    "df.head(20)"
   ]
  },
  {
   "cell_type": "code",
   "execution_count": 12,
   "metadata": {},
   "outputs": [
    {
     "name": "stdout",
     "output_type": "stream",
     "text": [
      "<class 'pandas.core.frame.DataFrame'>\n",
      "RangeIndex: 5094 entries, 0 to 5093\n",
      "Data columns (total 6 columns):\n",
      " #   Column        Non-Null Count  Dtype \n",
      "---  ------        --------------  ----- \n",
      " 0   MSN           5094 non-null   object\n",
      " 1   YYYYMM        5094 non-null   int64 \n",
      " 2   Value         5094 non-null   object\n",
      " 3   Column_Order  5094 non-null   int64 \n",
      " 4   Description   5094 non-null   object\n",
      " 5   Unit          5094 non-null   object\n",
      "dtypes: int64(2), object(4)\n",
      "memory usage: 238.9+ KB\n"
     ]
    }
   ],
   "source": [
    "df.info()"
   ]
  },
  {
   "cell_type": "code",
   "execution_count": null,
   "metadata": {},
   "outputs": [],
   "source": [
    "# Changing Month from int to Date\n",
    "dateparse = lambda x: pd.to_datetime(x, format='%Y%m', errors = 'coerce') #coerce to have a NaN field in empty or corrupted\n",
    "df = pd.read_csv(\"data/MER_T12_06.csv\", parse_dates=['Month'], index_col='Month', date_parser=dateparse) \n",
    "df.head(20)"
   ]
  },
  {
   "cell_type": "code",
   "execution_count": null,
   "metadata": {},
   "outputs": [],
   "source": [
    "#drop all rows with null index \n",
    "#ts = time serie\n",
    "ts = df[pd.Series(pd.to_datetime(df.index, errors='coerce')).notnull().values]\n",
    "ts.head(15)"
   ]
  },
  {
   "cell_type": "code",
   "execution_count": null,
   "metadata": {},
   "outputs": [],
   "source": [
    "#\n",
    "ts = df[pd.Series(pd.to_datetime(df.index, errors='coerce')).notnull().values]\n",
    "ts.head(15)"
   ]
  },
  {
   "cell_type": "code",
   "execution_count": null,
   "metadata": {},
   "outputs": [],
   "source": [
    "ts['Value'] = pd.to_numeric(ts['Value'] , errors='coerce')\n",
    "ts.head()"
   ]
  },
  {
   "cell_type": "code",
   "execution_count": null,
   "metadata": {},
   "outputs": [],
   "source": [
    "ts.dropna(inplace = True)"
   ]
  },
  {
   "cell_type": "code",
   "execution_count": null,
   "metadata": {},
   "outputs": [],
   "source": [
    "# sources = CO2 sources\n",
    "sources = ts.groupby('Description')\n",
    "ts.head(15)"
   ]
  },
  {
   "cell_type": "code",
   "execution_count": null,
   "metadata": {},
   "outputs": [],
   "source": [
    "fig, ax = plt.subplots()\n",
    "for desc, grp in sources:\n",
    "    grp.plot( y='Value', label=desc,ax = ax, title='Carbon Emissions per Source', fontsize = 20)\n",
    "    ax.set_xlabel('Time : Month')\n",
    "    ax.set_ylabel('Carbon Emissions in Million Metric Tons')\n",
    "    ax.xaxis.label.set_size(20)\n",
    "    ax.yaxis.label.set_size(20)\n",
    "    ax.legend(fontsize = 16)"
   ]
  },
  {
   "cell_type": "code",
   "execution_count": null,
   "metadata": {},
   "outputs": [],
   "source": [
    "#Plot per Emission source\n",
    "fig, axes = plt.subplots(3,3, figsize = (40, 40))\n",
    "for (desc, group), ax in zip(sources, axes.flatten()):\n",
    "    group.plot(y='Value',ax = ax, title=desc, fontsize = 20)\n",
    "    ax.set_xlabel('Time : Month')\n",
    "    ax.set_ylabel('Carbon Emissions in Million Metric Tons')\n",
    "    ax.xaxis.label.set_size(20)\n",
    "    ax.yaxis.label.set_size(20)"
   ]
  },
  {
   "cell_type": "code",
   "execution_count": null,
   "metadata": {},
   "outputs": [],
   "source": [
    "QuantityPerSource = ts.groupby('Description')['Value'].sum().sort_values()\n",
    "src = ['Geothermal Energy', 'Non-Biomass Waste', 'Petroleum Coke','Distillate Fuel ',\n",
    "        'Residual Fuel Oil', 'Petroleum', 'Natural Gas', 'Coal', 'Full Emissions']"
   ]
  },
  {
   "cell_type": "code",
   "execution_count": null,
   "metadata": {},
   "outputs": [],
   "source": [
    "fig = plt.figure(figsize = (16,9))\n",
    "x_label = src\n",
    "x_tick = np.arange(len(src))\n",
    "plt.bar(x_tick, QuantityPerSource, align = 'center', alpha = 0.7)\n",
    "fig.suptitle(\"CO2 Emissions by Sector\", fontsize= 25)\n",
    "plt.xticks(x_tick, x_label, rotation = 80, fontsize = 30 )\n",
    "plt.yticks(fontsize = 30)\n",
    "plt.xlabel('Carbon Emissions in Million Metric Tons', fontsize = 30)\n",
    "plt.show()"
   ]
  },
  {
   "cell_type": "code",
   "execution_count": null,
   "metadata": {},
   "outputs": [],
   "source": [
    "# ems = emissions\n",
    "ems = ts.drop(['MSN','Column_Order','Unit'], axis=1)  # droping columns and leting only value and description column\n",
    "# Petroleum total emissions (pte)\n",
    "pte = ems[ems['Description'] ==\"Petroleum Electric Power Sector CO2 Emissions\"]\n",
    "pte = pte.drop(['Description'], axis=1)\n",
    "pte"
   ]
  },
  {
   "cell_type": "code",
   "execution_count": null,
   "metadata": {},
   "outputs": [],
   "source": [
    "plt.plot(pte)\n",
    "# same result "
   ]
  },
  {
   "cell_type": "code",
   "execution_count": null,
   "metadata": {},
   "outputs": [],
   "source": [
    "import statsmodels\n",
    "import statsmodels.api as sm\n",
    "from statsmodels.tsa.stattools import adfuller\n",
    "from statsmodels.tsa.seasonal import seasonal_decompose\n",
    "from statsmodels.tsa.arima_model import ARIMA \n",
    "from pandas.plotting import register_matplotlib_converters\n",
    "register_matplotlib_converters()"
   ]
  },
  {
   "cell_type": "code",
   "execution_count": null,
   "metadata": {},
   "outputs": [],
   "source": [
    "def TestStationaryPlt(pte):\n",
    "    rolling_mean = pte.rolling(window = 12, center = False).mean()\n",
    "    rolling_std = pte.rolling(window = 12, center = False).std()   \n",
    "    plt.plot(pte, color = 'blue',label = 'Original Data')\n",
    "    plt.plot(rolling_mean, color = 'red', label = 'Rolling Mean')\n",
    "    plt.plot(rolling_std, color ='black', label = 'Rolling Standard Deviation')\n",
    "    plt.xticks(fontsize = 20)\n",
    "    plt.yticks(fontsize = 20)    \n",
    "    plt.xlabel('Time in Years', fontsize = 20)\n",
    "    plt.ylabel('Total Emissions', fontsize = 20)   \n",
    "    plt.legend(loc='best', fontsize = 20)\n",
    "    plt.title('Rolling Mean & Rolling Standard Deviation', fontsize = 20)\n",
    "    plt.show()\n",
    "TestStationaryPlt(pte)"
   ]
  },
  {
   "cell_type": "code",
   "execution_count": null,
   "metadata": {},
   "outputs": [],
   "source": [
    "def Adf_test(pte):\n",
    "    result = adfuller(pte['Value'])\n",
    "    print('ADF Statistic: {}'.format(result[0]))\n",
    "    print('p-value: {}'.format(result[1]))\n",
    "    print('Critical Values:')\n",
    "    for key, value in result[4].items():\n",
    "        print('\\t{}: {}'.format(key, value))\n",
    "Adf_test(pte)"
   ]
  },
  {
   "cell_type": "code",
   "execution_count": null,
   "metadata": {},
   "outputs": [],
   "source": [
    "moving_avg = pte.rolling(12).mean()\n",
    "pte_trans = pte - moving_avg\n",
    "pte_trans.head(13)"
   ]
  },
  {
   "cell_type": "code",
   "execution_count": null,
   "metadata": {},
   "outputs": [],
   "source": [
    "pte_trans.dropna(inplace=True)\n",
    "TestStationaryPlt(pte_trans)"
   ]
  },
  {
   "cell_type": "code",
   "execution_count": null,
   "metadata": {},
   "outputs": [],
   "source": [
    "Adf_test(pte_trans)"
   ]
  },
  {
   "cell_type": "code",
   "execution_count": null,
   "metadata": {},
   "outputs": [],
   "source": [
    "fig = plt.figure(figsize=(12,8))\n",
    "ax1 = fig.add_subplot(211)\n",
    "fig = sm.graphics.tsa.plot_acf(pte_trans.iloc[13:], lags=40, ax=ax1)\n",
    "ax2 = fig.add_subplot(212)\n",
    "fig = sm.graphics.tsa.plot_pacf(pte_trans.iloc[13:], lags=40, ax=ax2)"
   ]
  },
  {
   "cell_type": "code",
   "execution_count": null,
   "metadata": {},
   "outputs": [],
   "source": [
    "mod = sm.tsa.statespace.SARIMAX(pte, \n",
    "                                order=(1,1,1), \n",
    "                                seasonal_order=(0,1,1,12),   \n",
    "                                enforce_stationarity=False,\n",
    "                                enforce_invertibility=False)\n",
    "results = mod.fit()\n",
    "print(results.summary().tables[1])"
   ]
  },
  {
   "cell_type": "code",
   "execution_count": null,
   "metadata": {},
   "outputs": [],
   "source": [
    "results.plot_diagnostics(figsize=(15, 12))\n",
    "plt.show()"
   ]
  },
  {
   "cell_type": "code",
   "execution_count": null,
   "metadata": {},
   "outputs": [],
   "source": [
    "# gaussian residual error\n",
    "results.resid.plot(kind='kde')"
   ]
  },
  {
   "cell_type": "code",
   "execution_count": null,
   "metadata": {},
   "outputs": [],
   "source": [
    "pred = results.get_prediction(start=pd.to_datetime('1998-01-01'), dynamic=False)\n",
    "pred_ci = pred.conf_int()\n",
    "pred_ci.head()"
   ]
  },
  {
   "cell_type": "code",
   "execution_count": null,
   "metadata": {},
   "outputs": [],
   "source": [
    "ax = pte['1973':].plot(label='observed')\n",
    "pred.predicted_mean.plot(ax=ax, label='One-step ahead Forecast', alpha=.5)\n",
    "\n",
    "ax.fill_between(pred_ci.index,\n",
    "                pred_ci.iloc[:, 0],\n",
    "                pred_ci.iloc[:, 1], color='k', alpha=.2)\n",
    "\n",
    "ax.set_xlabel('Time : Years')\n",
    "ax.set_ylabel('CO2 Emissions')\n",
    "plt.legend()\n",
    "\n",
    "plt.show()"
   ]
  },
  {
   "cell_type": "code",
   "execution_count": null,
   "metadata": {},
   "outputs": [],
   "source": []
  }
 ],
 "metadata": {
  "kernelspec": {
   "display_name": "Python 3",
   "language": "python",
   "name": "python3"
  },
  "language_info": {
   "codemirror_mode": {
    "name": "ipython",
    "version": 3
   },
   "file_extension": ".py",
   "mimetype": "text/x-python",
   "name": "python",
   "nbconvert_exporter": "python",
   "pygments_lexer": "ipython3",
   "version": "3.8.5"
  }
 },
 "nbformat": 4,
 "nbformat_minor": 4
}
